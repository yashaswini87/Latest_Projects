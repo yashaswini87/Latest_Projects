{
 "metadata": {
  "name": "Assignment 3"
 },
 "nbformat": 3,
 "nbformat_minor": 0,
 "worksheets": [
  {
   "cells": [
    {
     "cell_type": "code",
     "collapsed": false,
     "input": [
      "import json\n",
      "\n",
      "class MapReduce:\n",
      "    def __init__(self):\n",
      "        self.intermediate = {}\n",
      "        self.result = []\n",
      "\n",
      "    def emit_intermediate(self, key, value):\n",
      "        self.intermediate.setdefault(key, [])\n",
      "        self.intermediate[key].append(value)\n",
      "\n",
      "    def emit(self, value):\n",
      "        self.result.append(value) \n",
      "\n",
      "    def execute(self, data, mapper, reducer):\n",
      "        for line in data:\n",
      "            record = json.loads(line)\n",
      "            mapper(record)\n",
      "\n",
      "        for key in self.intermediate:\n",
      "            reducer(key, self.intermediate[key])\n",
      "\n",
      "        #jenc = json.JSONEncoder(encoding='latin-1')\n",
      "        jenc = json.JSONEncoder()\n",
      "        for item in self.result:\n",
      "            print jenc.encode(item)"
     ],
     "language": "python",
     "metadata": {},
     "outputs": [],
     "prompt_number": 1
    },
    {
     "cell_type": "code",
     "collapsed": false,
     "input": [
      "import MapReduce\n",
      "import sys\n",
      "\n",
      "\"\"\"\n",
      "Word Count Example in the Simple Python MapReduce Framework\n",
      "\"\"\"\n",
      "\n",
      "mr = MapReduce.MapReduce()\n",
      "\n",
      "# =============================\n",
      "# Do not modify above this line\n",
      "\n",
      "def mapper(record):\n",
      "    # key: document identifier\n",
      "    # value: document contents\n",
      "    key = record[0]\n",
      "    value = record[1]\n",
      "    words = value.split()\n",
      "    for w in words:\n",
      "      mr.emit_intermediate(w, 1)"
     ],
     "language": "python",
     "metadata": {},
     "outputs": [],
     "prompt_number": 2
    },
    {
     "cell_type": "code",
     "collapsed": false,
     "input": [
      "def reducer(key, list_of_values):\n",
      "    # key: word\n",
      "    # value: list of occurrence counts\n",
      "    total = 0\n",
      "    for v in list_of_values:\n",
      "      total += v\n",
      "    mr.emit((key, total))"
     ],
     "language": "python",
     "metadata": {},
     "outputs": [],
     "prompt_number": 3
    },
    {
     "cell_type": "code",
     "collapsed": false,
     "input": [
      "def mapper1(record):\n",
      "    # key: document identifier\n",
      "    # value: document contents\n",
      "    key = record[0]\n",
      "    value = record[1]\n",
      "    words = value.split()\n",
      "    for w in words:\n",
      "      mr.emit_intermediate(w, key)\n",
      "\n",
      "def inverted_index(inpu):\n",
      "    \n",
      "    mapper(inpu)\n",
      "    \n",
      "    \n",
      "    "
     ],
     "language": "python",
     "metadata": {},
     "outputs": []
    },
    {
     "cell_type": "code",
     "collapsed": false,
     "input": [
      "import sys\n",
      "a=open(\"/home/yashu/Desktop/Introduction to data science/datasci_course_materials/assignment3/data/books.json\")\n"
     ],
     "language": "python",
     "metadata": {},
     "outputs": [],
     "prompt_number": 27
    },
    {
     "cell_type": "code",
     "collapsed": false,
     "input": [
      "import sys\n",
      "import json\n",
      "import collections\n",
      "from collections import defaultdict \n",
      "a=open(\"/home/yashu/Desktop/Introduction to data science/datasci_course_materials/assignment3/data/books.json\")\n",
      "intermediate = {}\n",
      "my_tuple=[]\n",
      "#unique={}\n",
      "for line in a:\n",
      "    record = json.loads(line)\n",
      "  \n",
      "    key=record[0]\n",
      "    key = key.encode('utf-8')\n",
      "    value=record[1]\n",
      "    value = value.encode('utf-8')\n",
      "    words = value.split()\n",
      "    for w in words:\n",
      "    #intermediate(w,key\n",
      "        intermediate.setdefault(w,[])\n",
      "        intermediate[w].append(key)\n",
      "\n",
      "for k in intermediate:\n",
      "    s=list(set(intermediate[k]))\n",
      "    t=[k] + [s]\n",
      "\n",
      "    my_tuple.append(t)\n",
      "\n"
     ],
     "language": "python",
     "metadata": {},
     "outputs": [],
     "prompt_number": 124
    },
    {
     "cell_type": "code",
     "collapsed": false,
     "input": [
      "'''t =  [(k, intermediate[k]) for k in intermediate]\n",
      "t.sort()\n",
      "intermediate={}\n",
      "for k,v in t:\n",
      "    if v in intermediate.values():\n",
      "        continue\n",
      "    else:\n",
      "        intermediate[k]=v\n",
      "#print intermediate\n",
      "'''\n",
      "#print [dict(p) for p in set(tuple(i.items()) for i in intermediate)]"
     ],
     "language": "python",
     "metadata": {},
     "outputs": []
    },
    {
     "cell_type": "code",
     "collapsed": false,
     "input": [
      "key=record[0]\n",
      "value=record[1]\n",
      "words = value.split()\n",
      "#print words\n",
      "intermediate = {}\n",
      "for w in words:\n",
      "    #intermediate(w,key\n",
      "    intermediate.setdefault(w,[])\n",
      "    intermediate[w].append(key)\n"
     ],
     "language": "python",
     "metadata": {},
     "outputs": [],
     "prompt_number": 52
    },
    {
     "cell_type": "code",
     "collapsed": false,
     "input": [
      "import sys\n",
      "import json\n",
      "import collections\n",
      "from collections import defaultdict \n",
      "script=open(\"/home/yashu/Desktop/Introduction to data science/datasci_course_materials/assignment3/data/records.json\")\n",
      "intermediate={}\n",
      "for line in script:\n",
      "    record = json.loads(line)\n",
      "    key=record[0]\n",
      "    value1=record[1]\n",
      "    intermediate.setdefault(value1,[])\n",
      "    intermediate[value1].append([key])\n",
      "for key in intermediate:\n",
      "    print intermediate[key][0]\n",
      "    "
     ],
     "language": "python",
     "metadata": {},
     "outputs": [
      {
       "output_type": "stream",
       "stream": "stdout",
       "text": [
        "[u'order']\n",
        "[u'order']\n",
        "[u'order']\n",
        "[u'order']\n",
        "[u'order']\n",
        "[u'order']\n",
        "[u'order']\n",
        "[u'order']\n"
       ]
      }
     ],
     "prompt_number": 217
    },
    {
     "cell_type": "code",
     "collapsed": false,
     "input": [
      "from itertools import chain\n",
      "somelist=[]\n",
      "\n",
      "for key in intermediate:\n",
      "    script=open(\"/home/yashu/Desktop/Introduction to data science/datasci_course_materials/assignment3/data/records.json\")\n",
      "    \n",
      "    for line in script:\n",
      "        record=json.loads(line)\n",
      "        \n",
      "        if (key==record[1] and record[0]=='order'):\n",
      "            \n",
      "            s=[]\n",
      "            s.append(record)\n",
      "            s= list(chain(*s))\n",
      "        elif (key==record[1] and record[0]!='order'):\n",
      "            t=[] \n",
      "            t.append(record)\n",
      "            t=list(chain(*t))\n",
      "            \n",
      "            somelist.append(s+t)\n",
      "            \n",
      "#print somelist\n",
      "            #somelist.append(s+t)\n",
      "\n"
     ],
     "language": "python",
     "metadata": {},
     "outputs": [],
     "prompt_number": 220
    },
    {
     "cell_type": "code",
     "collapsed": false,
     "input": [
      "import json\n",
      "from itertools import chain\n",
      "somelist=[]\n",
      "intermediate={}\n",
      "script=open(\"/home/yashu/Desktop/Introduction to data science/datasci_course_materials/assignment3/data/friends.json\")\n",
      "for line in script:\n",
      "    record=json.loads(line)\n",
      "    key=record[0]\n",
      "    value=record[1]\n",
      "    intermediate.setdefault(key,[])\n",
      "    intermediate[key].append(1)\n",
      "print intermediate"
     ],
     "language": "python",
     "metadata": {},
     "outputs": [
      {
       "output_type": "stream",
       "stream": "stdout",
       "text": [
        "{u'MlleBaptistine': [1, 1, 1], u'Myriel': [1, 1, 1, 1, 1], u'Valjean': [1, 1, 1, 1, 1, 1, 1, 1, 1, 1, 1, 1, 1, 1, 1, 1], u'MmeMagloire': [1], u'Champtercier': [1], u'Napoleon': [1]}\n"
       ]
      }
     ],
     "prompt_number": 225
    },
    {
     "cell_type": "code",
     "collapsed": false,
     "input": [
      "for key in intermediate:\n",
      "   \n",
      "    total=0\n",
      "    for v in intermediate[key]:\n",
      "        total+=v\n",
      "    \n",
      "    mr.emit(key,total)"
     ],
     "language": "python",
     "metadata": {},
     "outputs": [],
     "prompt_number": 240
    },
    {
     "cell_type": "code",
     "collapsed": false,
     "input": [
      "print mr.result"
     ],
     "language": "python",
     "metadata": {},
     "outputs": [
      {
       "output_type": "stream",
       "stream": "stdout",
       "text": [
        "[(u'MlleBaptistine', 3), (u'Myriel', 5), (u'Valjean', 16), (u'MmeMagloire', 1), (u'Champtercier', 1), (u'Napoleon', 1), 3, 5, 16, 1, 1, 1, 3, 5, 16, 1, 1, 1, 3, 5, 16, 1, 1, 1, 'MlleBaptistine3', 'Myriel5', 'Valjean16', 'MmeMagloire1', 'Champtercier1', 'Napoleon1', ['M', 'l', 'l', 'e', 'B', 'a', 'p', 't', 'i', 's', 't', 'i', 'n', 'e', '3'], ['M', 'y', 'r', 'i', 'e', 'l', '5'], ['V', 'a', 'l', 'j', 'e', 'a', 'n', '1', '6'], ['M', 'm', 'e', 'M', 'a', 'g', 'l', 'o', 'i', 'r', 'e', '1'], ['C', 'h', 'a', 'm', 'p', 't', 'e', 'r', 'c', 'i', 'e', 'r', '1'], ['N', 'a', 'p', 'o', 'l', 'e', 'o', 'n', '1']]\n"
       ]
      }
     ],
     "prompt_number": 241
    },
    {
     "cell_type": "code",
     "collapsed": false,
     "input": [
      "print mr.result"
     ],
     "language": "python",
     "metadata": {},
     "outputs": [
      {
       "output_type": "stream",
       "stream": "stdout",
       "text": [
        "[(u'MlleBaptistine', 3), (u'Myriel', 5), (u'Valjean', 16), (u'MmeMagloire', 1), (u'Champtercier', 1), (u'Napoleon', 1), 3, 5, 16, 1, 1, 1, 3, 5, 16, 1, 1, 1, 3, 5, 16, 1, 1, 1]\n"
       ]
      }
     ],
     "prompt_number": 235
    },
    {
     "cell_type": "heading",
     "level": 3,
     "metadata": {},
     "source": [
      "Problem 4\n"
     ]
    },
    {
     "cell_type": "heading",
     "level": 3,
     "metadata": {},
     "source": [
      "Finding Assymetric Friends"
     ]
    },
    {
     "cell_type": "heading",
     "level": 4,
     "metadata": {},
     "source": [
      "Mapper Function"
     ]
    },
    {
     "cell_type": "code",
     "collapsed": false,
     "input": [
      "s=[]\n",
      "intermediate={}\n",
      "intermediate1={}\n",
      "intermediate2={}\n",
      "import json\n",
      "from itertools import chain\n",
      "script=open(\"/home/yashu/Desktop/Introduction to data science/datasci_course_materials/assignment3/data/friends.json\")\n",
      "for line in script:\n",
      "    record=json.loads(line)\n",
      "    a1=record[0]\n",
      "    a2=record[1]\n",
      "    '''\n",
      "    script=open(\"/home/yashu/Desktop/Introduction to data science/datasci_course_materials/assignment3/data/friends.json\")\n",
      "    for line in script:\n",
      "        record1=json.loads(line)\n",
      "        a3=record[0]\n",
      "        a4=record[1]\n",
      "    if (a1==a4 and a2==a3):\n",
      "       continue \n",
      "    else:\n",
      "    '''\n",
      "    #intermediate.setdefault(a1, [])\n",
      "    #intermediate[a1].append(a2)\n",
      "    intermediate1.setdefault(a2, [])\n",
      "    intermediate1[a2].append(a1)\n",
      "print intermediate, intermediate1        \n",
      "            \n",
      "    #intermediate.setdefault(record[0], [])\n",
      "    #intermediate[record[0]].append(record[1])\n",
      "    \n",
      "    #intermediate.setdefault(record[1], [])\n",
      "    #intermediate[record[1]].append(record[0])\n",
      "    #mr.emit_intermediate(record[0],record[1])\n",
      "    #mr.emit_intermediate(record[1],record[0])\n",
      "'''\n",
      "    for key in intermediate:\n",
      "        if (intermediate.has_key(key)==True and intermediate1.has_key(key)==True):\n",
      "            value=removeCommonElements(intermediate1[key],intermediate[key])\n",
      "        intermediate2.setdefault(key, [])\n",
      "        intermediate2[key].append(value)\n",
      "        \n",
      "print intermediate2\n",
      "'''\n",
      "   \n",
      "    #s.append(record)\n",
      "#s=set(list(chain(*s)))\n",
      "  \n",
      "#print s    \n"
     ],
     "language": "python",
     "metadata": {},
     "outputs": [
      {
       "output_type": "stream",
       "stream": "stdout",
       "text": [
        "{} {u'Count': [u'Myriel'], u'Gillenormand': [u'Valjean'], u'Fantine': [u'Valjean'], u'Isabeau': [u'Valjean'], u'Marguerite': [u'Valjean'], u'Woman2': [u'Valjean'], u'Babet': [u'Valjean'], u'Myriel': [u'Napoleon', u'MlleBaptistine', u'MmeMagloire', u'Champtercier', u'Valjean'], u'MlleGillenormand': [u'Valjean'], u'Simplice': [u'Valjean'], u'Cosette': [u'Valjean'], u'Judge': [u'Valjean'], u'OldMan': [u'Myriel'], u'Valjean': [u'Myriel', u'MlleBaptistine'], u'Montparnasse': [u'Valjean'], u'MmeMagloire': [u'MlleBaptistine', u'Valjean'], u'Labarre': [u'Valjean'], u'MmeDeR': [u'Valjean'], u'Champtercier': [u'Myriel'], u'Geborand': [u'Myriel'], u'Woman1': [u'Valjean']}\n"
       ]
      },
      {
       "output_type": "pyout",
       "prompt_number": 356,
       "text": [
        "'\\n    for key in intermediate:\\n        if (intermediate.has_key(key)==True and intermediate1.has_key(key)==True):\\n            value=removeCommonElements(intermediate1[key],intermediate[key])\\n        intermediate2.setdefault(key, [])\\n        intermediate2[key].append(value)\\n        \\nprint intermediate2\\n'"
       ]
      }
     ],
     "prompt_number": 356
    },
    {
     "cell_type": "code",
     "collapsed": false,
     "input": [
      "def removeCommonElements(a, b):\n",
      "    for e in a[:]:\n",
      "        if e in b:\n",
      "            a.remove(e)\n",
      "            b.remove(e)\n",
      "    return a+b"
     ],
     "language": "python",
     "metadata": {},
     "outputs": [],
     "prompt_number": 345
    },
    {
     "cell_type": "code",
     "collapsed": false,
     "input": [
      "import json\n",
      "from itertools import chain\n",
      "intermediate={}\n",
      "script=open(\"/home/yashu/Desktop/Introduction to data science/datasci_course_materials/assignment3/data/friends.json\")\n",
      "for line in script:\n",
      "    record=json.loads(line)\n",
      "    a1=record[0]\n",
      "    a2=record[1]\n",
      "   \n",
      "    script1=open(\"/home/yashu/Desktop/Introduction to data science/datasci_course_materials/assignment3/data/friends.json\")\n",
      "    aisehi={}\n",
      "    for line1 in script1:\n",
      "        record1=json.loads(line1)\n",
      "        a3=record1[0]\n",
      "        a4=record1[1]\n",
      "        aisehi.setdefault(a3, [])\n",
      "        aisehi[a3].append(a4)  \n",
      "    for key in aisehi:\n",
      "        if (aisehi.has_key(a2)==True and aisehi.has_key(a1)==True):\n",
      "            if (((a1 in key[a2]==True) and (a2 in key[a1]==False)) or ):\n",
      "            \n"
     ],
     "language": "python",
     "metadata": {},
     "outputs": [],
     "prompt_number": 366
    },
    {
     "cell_type": "code",
     "collapsed": false,
     "input": [
      "     if(a1==a4 and (a2==a3)):\n",
      "            break\n",
      "        elif(a1==a4 and (a2!=a3)):\n",
      "            intermediate.setdefault(a1, [])\n",
      "            intermediate[a1].append(a2)\n",
      "            intermediate[a1].append(a3)"
     ],
     "language": "python",
     "metadata": {},
     "outputs": []
    },
    {
     "cell_type": "heading",
     "level": 4,
     "metadata": {},
     "source": [
      "Reducer"
     ]
    },
    {
     "cell_type": "code",
     "collapsed": false,
     "input": [
      "try1=[]\n",
      "for key in intermediate:\n",
      "    s=list(set(intermediate[key]))\n",
      "    for v in s:\n",
      "        if (intermediate.has_key(v)==False):\n",
      "            try1.append([key]+[v])\n",
      "            #try1.append([v]+[key])\n",
      "        elif (intermediate.has_key(v)==True):\n",
      "            if ((key in intermediate[v])==False):\n",
      "                try1.append([key]+[v])\n",
      "                #try1.append([v]+[key])\n",
      "            \n",
      "print try1\n",
      "            "
     ],
     "language": "python",
     "metadata": {},
     "outputs": [
      {
       "output_type": "stream",
       "stream": "stdout",
       "text": [
        "[]\n"
       ]
      }
     ],
     "prompt_number": 300
    },
    {
     "cell_type": "code",
     "collapsed": false,
     "input": [
      "  if ((key in intermediate[v])==False):\n",
      "           try1.append([key]+[v])\n",
      "        else:\n",
      "            continue\n",
      "                  "
     ],
     "language": "python",
     "metadata": {},
     "outputs": []
    },
    {
     "cell_type": "code",
     "collapsed": false,
     "input": [
      "\n",
      "for x in set(s):\n",
      "    script=open(\"/home/yashu/Desktop/Introduction to data science/datasci_course_materials/assignment3/data/friends.json\")\n",
      "    for line in script:\n",
      "        record=json.loads(line)\n",
      "        if (record[0]==x):\n",
      "            \n",
      "            t1=[x]+[record[1]]\n",
      "            mr.emit(t1)\n",
      "        elif (record[1]==x):\n",
      "            t2=[x]+[record[0]]\n",
      "            mr.emit(t2)\n",
      "            #something.append([x]+[record[0]])\n"
     ],
     "language": "python",
     "metadata": {},
     "outputs": [
      {
       "ename": "TypeError",
       "evalue": "unhashable type: 'list'",
       "output_type": "pyerr",
       "traceback": [
        "\u001b[1;31m---------------------------------------------------------------------------\u001b[0m\n\u001b[1;31mTypeError\u001b[0m                                 Traceback (most recent call last)",
        "\u001b[1;32m<ipython-input-259-13e8f43598c9>\u001b[0m in \u001b[0;36m<module>\u001b[1;34m()\u001b[0m\n\u001b[0;32m      1\u001b[0m \u001b[0msomething\u001b[0m\u001b[1;33m=\u001b[0m\u001b[1;33m[\u001b[0m\u001b[1;33m]\u001b[0m\u001b[1;33m\u001b[0m\u001b[0m\n\u001b[1;32m----> 2\u001b[1;33m \u001b[1;32mfor\u001b[0m \u001b[0mx\u001b[0m \u001b[1;32min\u001b[0m \u001b[0mset\u001b[0m\u001b[1;33m(\u001b[0m\u001b[0ms\u001b[0m\u001b[1;33m)\u001b[0m\u001b[1;33m:\u001b[0m\u001b[1;33m\u001b[0m\u001b[0m\n\u001b[0m\u001b[0;32m      3\u001b[0m     \u001b[0mscript\u001b[0m\u001b[1;33m=\u001b[0m\u001b[0mopen\u001b[0m\u001b[1;33m(\u001b[0m\u001b[1;34m\"/home/yashu/Desktop/Introduction to data science/datasci_course_materials/assignment3/data/friends.json\"\u001b[0m\u001b[1;33m)\u001b[0m\u001b[1;33m\u001b[0m\u001b[0m\n\u001b[0;32m      4\u001b[0m     \u001b[1;32mfor\u001b[0m \u001b[0mline\u001b[0m \u001b[1;32min\u001b[0m \u001b[0mscript\u001b[0m\u001b[1;33m:\u001b[0m\u001b[1;33m\u001b[0m\u001b[0m\n\u001b[0;32m      5\u001b[0m         \u001b[0mrecord\u001b[0m\u001b[1;33m=\u001b[0m\u001b[0mjson\u001b[0m\u001b[1;33m.\u001b[0m\u001b[0mloads\u001b[0m\u001b[1;33m(\u001b[0m\u001b[0mline\u001b[0m\u001b[1;33m)\u001b[0m\u001b[1;33m\u001b[0m\u001b[0m\n",
        "\u001b[1;31mTypeError\u001b[0m: unhashable type: 'list'"
       ]
      }
     ],
     "prompt_number": 259
    },
    {
     "cell_type": "heading",
     "level": 3,
     "metadata": {},
     "source": [
      "Assignment 5: "
     ]
    },
    {
     "cell_type": "code",
     "collapsed": false,
     "input": [
      "import json\n",
      "intermediate={}\n",
      "script=open(\"/home/yashu/Desktop/Introduction to data science/datasci_course_materials/assignment3/data/dna.json\")\n",
      "for line in script:\n",
      "    record=json.loads(line)\n",
      "    a1=record[0]\n",
      "    a2=record[1][:-10]\n",
      "    intermediate.setdefault(a2, [])\n",
      "    intermediate[a2].append(a1)\n",
      "print len(intermediate.keys())  "
     ],
     "language": "python",
     "metadata": {},
     "outputs": [
      {
       "output_type": "stream",
       "stream": "stdout",
       "text": [
        "17\n"
       ]
      }
     ],
     "prompt_number": 332
    },
    {
     "cell_type": "code",
     "collapsed": false,
     "input": [
      "from itertools import chain\n",
      "result=[]\n",
      "\n",
      "for key in intermediate:\n",
      "    #s=list(set(intermediate[key]))\n",
      "    \n",
      "    result.append(key)\n",
      "\n",
      "print len(result)"
     ],
     "language": "python",
     "metadata": {},
     "outputs": [
      {
       "output_type": "stream",
       "stream": "stdout",
       "text": [
        "17\n"
       ]
      }
     ],
     "prompt_number": 334
    },
    {
     "cell_type": "code",
     "collapsed": false,
     "input": [],
     "language": "python",
     "metadata": {},
     "outputs": []
    }
   ],
   "metadata": {}
  }
 ]
}