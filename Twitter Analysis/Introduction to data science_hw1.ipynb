{
 "metadata": {
  "name": "Introduction to data science_hw1"
 },
 "nbformat": 3,
 "nbformat_minor": 0,
 "worksheets": [
  {
   "cells": [
    {
     "cell_type": "code",
     "collapsed": false,
     "input": [
      "import urllib\n",
      "import json"
     ],
     "language": "python",
     "metadata": {},
     "outputs": [],
     "prompt_number": 1
    },
    {
     "cell_type": "code",
     "collapsed": false,
     "input": [
      "## Extracting the twitter data from the website\n",
      "response = urllib.urlopen(\"http://search.twitter.com/search.json?q=microsoft\")\n",
      "s=json.load(response)\n",
      "results=s[\"results\"]\n",
      "text=[]\n",
      "for i in range(len(results)):\n",
      "    k=results[i][\"text\"]\n",
      "    text.append(k)\n"
     ],
     "language": "python",
     "metadata": {},
     "outputs": [],
     "prompt_number": 50
    },
    {
     "cell_type": "heading",
     "level": 3,
     "metadata": {},
     "source": [
      "Homework Assignment # 2"
     ]
    },
    {
     "cell_type": "code",
     "collapsed": false,
     "input": [
      "path= '/home/yashu/Desktop/Introduction to data science/Hw1 /scripts/head.txt'\n",
      "readfile= open('/home/yashu/Desktop/Introduction to data science/Hw1 /scripts/outputtxt1.txt')\n",
      "text1=[]\n",
      "#for line in readfile:\n",
      "for line in readfile:\n",
      "    try:\n",
      "        total=0\n",
      "        s=json.loads(line)\n",
      "        k=s[\"text\"]\n",
      "        words=k.split()  \n",
      "        for word in words:\n",
      "            if word in (x[0] for x in scores):\n",
      "                print word, x[0], x[1]\n",
      "                total=total+x[1]\n",
      "        #print total           \n",
      "        #text1.append(k)\n",
      "        #print k\n",
      "        #k.split()\n",
      "        \n",
      "   #print line\n",
      "    except KeyError:\n",
      "        pass\n",
      "\n",
      "    \n",
      "#print text1\n"
     ],
     "language": "python",
     "metadata": {},
     "outputs": [
      {
       "output_type": "stream",
       "stream": "stdout",
       "text": [
        "better bereaved -2\n",
        "want bereaved -2\n",
        "want"
       ]
      },
      {
       "output_type": "stream",
       "stream": "stdout",
       "text": [
        " bereaved -2\n"
       ]
      }
     ],
     "prompt_number": 28
    },
    {
     "cell_type": "code",
     "collapsed": false,
     "input": [
      "string= \"/home/yashu/Desktop/Introduction to data science/datasci_course_materials/assignment1/AFINN-111.txt\""
     ],
     "language": "python",
     "metadata": {},
     "outputs": [],
     "prompt_number": 9
    },
    {
     "cell_type": "code",
     "collapsed": false,
     "input": [
      "def hw(string):\n",
      "    afinnfile = open(string)\n",
      "    scores = {} # initialize an empty dictionary\n",
      "    for line in afinnfile:\n",
      "  \tterm, score  = line.split(\"\\t\")  # The file is tab-delimited. \"\\t\" means \"tab character\"\n",
      "  \tscores[term] = int(score)  # Convert the score to an integer.\n",
      "    return scores.items() # Print every (term, score) pair in the dictionary\t\n",
      "\n",
      "#print 'Hello, world!'"
     ],
     "language": "python",
     "metadata": {},
     "outputs": []
    },
    {
     "cell_type": "code",
     "collapsed": false,
     "input": [
      "\n",
      "afinnfile = open(string)\n",
      "scores = {} # initialize an empty dictionary\n",
      "for line in afinnfile:\n",
      "    term, score  = line.split(\"\\t\")  # The file is tab-delimited. \"\\t\" means \"tab character\"\n",
      "    scores[term] = int(score)  # Convert the score to an integer.\n",
      "scores = list(scores.items())# Print every (term, score) pair in the dictionary\n",
      "\n",
      "    #print x[0]\n",
      "#print 'Hello, world!'"
     ],
     "language": "python",
     "metadata": {},
     "outputs": [],
     "prompt_number": 52
    },
    {
     "cell_type": "code",
     "collapsed": false,
     "input": [
      "path= '/home/yashu/Desktop/Introduction to data science/Hw1 /scripts/head.txt'\n",
      "readfile= open('/home/yashu/Desktop/Introduction to data science/Hw1 /scripts/outputtxt1.txt')\n",
      "s1=[]\n",
      "#for line in readfile:\n",
      "for line in readfile:\n",
      "    try:\n",
      "        total=0\n",
      "        s=json.loads(line)\n",
      "        k=s[\"text\"].encode('utf-8') \n",
      "        words=k.split()  \n",
      "        for word in words:\n",
      "            word=word.lower()\n",
      "            for item in scores:\n",
      "                if word==item[0]:\n",
      "                   total=total+item[1]\n",
      "            s1.append(total) \n",
      "    except KeyError:\n",
      "        pass\n",
      "print s1\n",
      "    "
     ],
     "language": "python",
     "metadata": {},
     "outputs": [
      {
       "output_type": "stream",
       "stream": "stdout",
       "text": [
        "[0, 0, 0, 0, 0, 0, 0, 0, 0, 0, 0, 0, 0, 0, 0, 0, 2, 2, 2, 0, 0, 0, 1, 1, 1, 1, 1, 0, 0, 0, 0, 0, 0, 0, 0, 0, 0, 0, 0, 0, 0, 0, 0, 0, 0, 0, 0, 0, 0, 0, 0, 0, 0, 0, 0, 0, 0, 0, 0, 0, 0, 0, 0, 0, 0, 0, 0, 3, 3, 3, 3, 0, 0, 0, 0, 0, 0, 0, 0, 0, 0, 0, 0, 0, 0, 0, 0, 0, 0, 0, 0, 0, 0, 0, 0, 0, 0, 0, 0, 0, 0, 0, 0, 0, 0, 0, 0, 0, 0, 0, 0, 0, 1, 1, 0, 0, 0, 0, 0, 0, 0, 0, 0, 0, 0, 0, 0, 0, 0, 0, 0, 0, 0, 0, 0, 0, 0]\n"
       ]
      }
     ],
     "prompt_number": 65
    },
    {
     "cell_type": "code",
     "collapsed": false,
     "input": [
      "## Generalize your program, print.py, to fetch and print 10 pages of results. \n",
      "##Note that you can return a different page of results by passing an additional argument in the url\n",
      "t=[]\n",
      "text=[]\n",
      "for i in range(10):\n",
      "    i=i+1\n",
      "    t='http://search.twitter.com/search.json?q=microsoft&page=%d'%i\n",
      "    response = urllib.urlopen(t)\n",
      "    s=json.load(response)\n",
      "    results=s[\"results\"]\n",
      "    for j in range(len(results)):\n",
      "        k=results[j][\"text\"]\n",
      "        text.append(k)\n",
      "    #k=s[\"results\"]\n",
      "    #t.append(k)\n",
      "        print text1"
     ],
     "language": "python",
     "metadata": {},
     "outputs": [],
     "prompt_number": 46
    },
    {
     "cell_type": "code",
     "collapsed": false,
     "input": [
      "access_token_key = \"<Enter your access token key here>\"\n",
      "\n",
      "access_token_secret = \"<Enter your access token secret here>\"\n",
      "\n",
      "consumer_key = \"Kjn1eWe2F8ZuKooxOw\"\n",
      "\n",
      "consumer_secret = \"ZFFBUyY3sCOW3u4p5lif1rrcEmYcchL6UBE5FnPZv8\"\n",
      "\n",
      " "
     ],
     "language": "python",
     "metadata": {},
     "outputs": []
    },
    {
     "cell_type": "heading",
     "level": 3,
     "metadata": {},
     "source": [
      "Frequency Count assignment: "
     ]
    },
    {
     "cell_type": "code",
     "collapsed": false,
     "input": [
      "from math import ceil\n",
      "total_wordcount=[]\n",
      "readfile= open('/home/yashu/Desktop/Introduction to data science/Hw1 /scripts/output.txt')\n",
      "for line in readfile:\n",
      "    try:\n",
      "       s1=json.loads(line)\n",
      "        \n",
      "       k=s1[\"text\"].encode('utf-8')\n",
      "       words=k.split()\n",
      "       for word in words:\n",
      "           total_wordcount.append(word)\n",
      "        \n",
      "    except KeyError:\n",
      "           pass\n",
      "\n",
      "total_occurence= len(total_wordcount)\n",
      "\n",
      "for word in total_wordcount:\n",
      "\tfrequency=0   \t\t\n",
      "        term_occurence=total_wordcount.count(word)\n",
      "        frequency=ceil((float(term_occurence)/float(total_occurence))*10000)/10000.0\n",
      "        print (word, frequency)\n"
     ],
     "language": "python",
     "metadata": {},
     "outputs": [
      {
       "ename": "NameError",
       "evalue": "name 'json' is not defined",
       "output_type": "pyerr",
       "traceback": [
        "\u001b[1;31m---------------------------------------------------------------------------\u001b[0m\n\u001b[1;31mNameError\u001b[0m                                 Traceback (most recent call last)",
        "\u001b[1;32m<ipython-input-1-492dd3eef8e3>\u001b[0m in \u001b[0;36m<module>\u001b[1;34m()\u001b[0m\n\u001b[0;32m      4\u001b[0m \u001b[1;32mfor\u001b[0m \u001b[0mline\u001b[0m \u001b[1;32min\u001b[0m \u001b[0mreadfile\u001b[0m\u001b[1;33m:\u001b[0m\u001b[1;33m\u001b[0m\u001b[0m\n\u001b[0;32m      5\u001b[0m     \u001b[1;32mtry\u001b[0m\u001b[1;33m:\u001b[0m\u001b[1;33m\u001b[0m\u001b[0m\n\u001b[1;32m----> 6\u001b[1;33m        \u001b[0ms1\u001b[0m\u001b[1;33m=\u001b[0m\u001b[0mjson\u001b[0m\u001b[1;33m.\u001b[0m\u001b[0mloads\u001b[0m\u001b[1;33m(\u001b[0m\u001b[0mline\u001b[0m\u001b[1;33m)\u001b[0m\u001b[1;33m\u001b[0m\u001b[0m\n\u001b[0m\u001b[0;32m      7\u001b[0m        \u001b[0mk\u001b[0m\u001b[1;33m=\u001b[0m\u001b[0ms1\u001b[0m\u001b[1;33m[\u001b[0m\u001b[1;34m\"text\"\u001b[0m\u001b[1;33m]\u001b[0m\u001b[1;33m.\u001b[0m\u001b[0mencode\u001b[0m\u001b[1;33m(\u001b[0m\u001b[1;34m'utf-8'\u001b[0m\u001b[1;33m)\u001b[0m\u001b[1;33m\u001b[0m\u001b[0m\n\u001b[0;32m      8\u001b[0m        \u001b[0mwords\u001b[0m\u001b[1;33m=\u001b[0m\u001b[0mk\u001b[0m\u001b[1;33m.\u001b[0m\u001b[0msplit\u001b[0m\u001b[1;33m(\u001b[0m\u001b[1;33m)\u001b[0m\u001b[1;33m\u001b[0m\u001b[0m\n",
        "\u001b[1;31mNameError\u001b[0m: name 'json' is not defined"
       ]
      }
     ],
     "prompt_number": 1
    },
    {
     "cell_type": "heading",
     "level": 3,
     "metadata": {},
     "source": [
      "Happiest State"
     ]
    },
    {
     "cell_type": "code",
     "collapsed": false,
     "input": [
      "import urllib\n",
      "import json\n",
      "from math import ceil\n",
      "total_wordcount=[]\n",
      "readfile= open('/home/yashu/Desktop/Introduction to data science/Hw1 /scripts/outputtxt1.txt')\n",
      "for line in readfile:\n",
      "    try:\n",
      "       s1=json.loads(line)\n",
      "       k=s1[\"place\"]\n",
      "       if k==None:\n",
      "          pass\n",
      "       else:\n",
      "          if k[\"country\"]==\"United States\":\n",
      "             print k[\"full_name\"][-2:]   \n",
      "    except KeyError:\n",
      "       pass\n",
      "      "
     ],
     "language": "python",
     "metadata": {},
     "outputs": [
      {
       "output_type": "stream",
       "stream": "stdout",
       "text": [
        "OR\n"
       ]
      }
     ],
     "prompt_number": 29
    },
    {
     "cell_type": "code",
     "collapsed": false,
     "input": [
      " for a,p in k.iteritems():\n",
      "            if a=='country':\n",
      "                print p\n",
      "    except KeyError:\n",
      "       pass"
     ],
     "language": "python",
     "metadata": {},
     "outputs": [
      {
       "output_type": "stream",
       "stream": "stdout",
       "text": [
        "None\n"
       ]
      }
     ],
     "prompt_number": 4
    },
    {
     "cell_type": "code",
     "collapsed": false,
     "input": [
      "import sys\n",
      "import json\n",
      "\n",
      "def hw(string):\n",
      "    afinnfile = open(string)\n",
      "    scores = {} # initialize an empty dictionary\n",
      "    for line in afinnfile:\n",
      "  \tterm, score  = line.split(\"\\t\")  # The file is tab-delimited. \"\\t\" means \"tab character\"\n",
      "  \tscores[term] = int(score)  # Convert the score to an integer.\n",
      "    return list(scores.items()) # Print every (term, score) pair in the dictionary\t\n",
      "#print 'Hello, world!'\n",
      "\n",
      "\n",
      "def main():\n",
      "    s = hw(sys.argv[1])\n",
      "    readfile=open(sys.argv[2])\n",
      "    for line in readfile:\n",
      "\tsum1=0\n",
      "\tt1=[]\n",
      "    sum1_1=[]\n",
      "    dic={}\n",
      "\ttry:\n",
      "\t       s1=json.loads(line)\n",
      "           k=s1[\"place\"]\n",
      "           if k==None:\n",
      "              pass\n",
      "           else:\n",
      "              if k[\"country\"]==\"United States\":\n",
      "                 t=k[\"full_name\"][-2:]    \n",
      "                 k1=s1[\"text\"].encode('utf-8') \n",
      "                 sum1=lines(k1, s)\n",
      "                 if k in dic.keys():\n",
      "                    dic[t].append(sum1)\n",
      "                 else:\n",
      "                    dic[t] = [sum1]\n",
      "\n",
      "        except KeyError:\n",
      "\t       pass\n",
      "   \n",
      "\t\t\n",
      "    # here i need to read the second argument to parse using json libraries \n",
      "    \n",
      "\n",
      "def lines(line, list1):\n",
      "  # Reading a line in a file \n",
      "  # Tokenize and for each tokenized work check if the word is in the list\n",
      "  # If the word is in the list increase the score by a value\n",
      "    words=line.split()\n",
      "    total=0  \n",
      "    for word in words:\n",
      "\tword=word.lower()\n",
      "\tfor item in list1:\n",
      "\t    if word==item[0]:\n",
      "\t\ttotal=total+item[1]\n",
      "            else: \n",
      "\t\ttotal=total+0   \n",
      "    return total\t\t\n",
      "  \n",
      "if __name__ == '__main__':\n",
      "    main()"
     ],
     "language": "python",
     "metadata": {},
     "outputs": []
    },
    {
     "cell_type": "heading",
     "level": 3,
     "metadata": {},
     "source": [
      "HashTags_text"
     ]
    },
    {
     "cell_type": "code",
     "collapsed": false,
     "input": [
      "import urllib\n",
      "import json\n",
      "from math import ceil\n",
      "words=[]\n",
      "total_wordcount=[]\n",
      "readfile= open('/home/yashu/Desktop/Introduction to data science/Hw1 /scripts/outputtxt1.txt')\n",
      "for line in readfile:\n",
      "    try:\n",
      "       s1=json.loads(line)\n",
      "       k=s1[\"entities\"][\"hashtags\"]\n",
      "       if k==[]:\n",
      "          pass\n",
      "       else:\n",
      "          print k \n",
      "    except KeyError:\n",
      "       pass\n",
      "      "
     ],
     "language": "python",
     "metadata": {},
     "outputs": [
      {
       "output_type": "stream",
       "stream": "stdout",
       "text": [
        "[{u'indices': [0, 7], u'text': u'Google'}, {u'indices': [8, 12], u'text': u'Hot'}, {u'indices': [13, 19], u'text': u'Trend'}, {u'indices': [78, 90], u'text': u'iFollowBack'}]\n",
        "[{u'indices': [102, 112], u'text': u'SmartNews'}]\n",
        "[{u'indices': [0, 4], u'text': u'Hot'}, {u'indices': [5, 10], u'text': u'News'}, {u'indices': [11, 18], u'text': u'Google'}, {u'indices': [83, 94], u'text': u'OpenFollow'}]\n"
       ]
      }
     ],
     "prompt_number": 40
    },
    {
     "cell_type": "code",
     "collapsed": false,
     "input": [],
     "language": "python",
     "metadata": {},
     "outputs": []
    }
   ],
   "metadata": {}
  }
 ]
}